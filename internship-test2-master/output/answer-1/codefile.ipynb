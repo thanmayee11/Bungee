{
 "cells": [
  {
   "cell_type": "code",
   "execution_count": 2,
   "metadata": {},
   "outputs": [
    {
     "data": {
      "text/html": [
       "<div>\n",
       "<style scoped>\n",
       "    .dataframe tbody tr th:only-of-type {\n",
       "        vertical-align: middle;\n",
       "    }\n",
       "\n",
       "    .dataframe tbody tr th {\n",
       "        vertical-align: top;\n",
       "    }\n",
       "\n",
       "    .dataframe thead th {\n",
       "        text-align: right;\n",
       "    }\n",
       "</style>\n",
       "<table border=\"1\" class=\"dataframe\">\n",
       "  <thead>\n",
       "    <tr style=\"text-align: right;\">\n",
       "      <th></th>\n",
       "      <th>product_code</th>\n",
       "      <th>product_description</th>\n",
       "      <th>product_group</th>\n",
       "      <th>sales_date</th>\n",
       "      <th>price</th>\n",
       "      <th>sales_quantity</th>\n",
       "      <th>unit</th>\n",
       "    </tr>\n",
       "  </thead>\n",
       "  <tbody>\n",
       "    <tr>\n",
       "      <th>0</th>\n",
       "      <td>1001</td>\n",
       "      <td>tomato</td>\n",
       "      <td>vegetable</td>\n",
       "      <td>2021-11-01</td>\n",
       "      <td>2.99</td>\n",
       "      <td>36</td>\n",
       "      <td>kg</td>\n",
       "    </tr>\n",
       "    <tr>\n",
       "      <th>1</th>\n",
       "      <td>1001</td>\n",
       "      <td>tomato</td>\n",
       "      <td>vegetable</td>\n",
       "      <td>2021-11-02</td>\n",
       "      <td>2.99</td>\n",
       "      <td>23</td>\n",
       "      <td>kg</td>\n",
       "    </tr>\n",
       "    <tr>\n",
       "      <th>2</th>\n",
       "      <td>1001</td>\n",
       "      <td>tomato</td>\n",
       "      <td>vegetable</td>\n",
       "      <td>2021-11-03</td>\n",
       "      <td>2.99</td>\n",
       "      <td>34</td>\n",
       "      <td>kg</td>\n",
       "    </tr>\n",
       "    <tr>\n",
       "      <th>3</th>\n",
       "      <td>1001</td>\n",
       "      <td>tomato</td>\n",
       "      <td>vegetable</td>\n",
       "      <td>2021-11-04</td>\n",
       "      <td>2.99</td>\n",
       "      <td>23</td>\n",
       "      <td>kg</td>\n",
       "    </tr>\n",
       "    <tr>\n",
       "      <th>4</th>\n",
       "      <td>1001</td>\n",
       "      <td>tomato</td>\n",
       "      <td>vegetable</td>\n",
       "      <td>2021-11-05</td>\n",
       "      <td>2.99</td>\n",
       "      <td>34</td>\n",
       "      <td>kg</td>\n",
       "    </tr>\n",
       "  </tbody>\n",
       "</table>\n",
       "</div>"
      ],
      "text/plain": [
       "   product_code product_description product_group  sales_date  price  \\\n",
       "0          1001              tomato     vegetable  2021-11-01   2.99   \n",
       "1          1001              tomato     vegetable  2021-11-02   2.99   \n",
       "2          1001              tomato     vegetable  2021-11-03   2.99   \n",
       "3          1001              tomato     vegetable  2021-11-04   2.99   \n",
       "4          1001              tomato     vegetable  2021-11-05   2.99   \n",
       "\n",
       "   sales_quantity unit  \n",
       "0              36   kg  \n",
       "1              23   kg  \n",
       "2              34   kg  \n",
       "3              23   kg  \n",
       "4              34   kg  "
      ]
     },
     "execution_count": 2,
     "metadata": {},
     "output_type": "execute_result"
    }
   ],
   "source": [
    "import pandas as pd\n",
    "Thanmayee = pd.read_csv(\"main.csv\")\n",
    "Thanmayee.head()"
   ]
  },
  {
   "cell_type": "code",
   "execution_count": 3,
   "metadata": {},
   "outputs": [
    {
     "data": {
      "text/plain": [
       "product_description\n",
       "apple           2.077778\n",
       "butter-0.25    11.400000\n",
       "cucumber        4.532857\n",
       "grape           4.400000\n",
       "milk-1.5        6.078571\n",
       "onion           2.150714\n",
       "orange          2.714286\n",
       "plum            4.389655\n",
       "tomato          3.121034\n",
       "yogurt-1        6.693103\n",
       "Name: price, dtype: float64"
      ]
     },
     "execution_count": 3,
     "metadata": {},
     "output_type": "execute_result"
    }
   ],
   "source": [
    "Thanmayee.groupby('product_description')['price'].mean()"
   ]
  },
  {
   "cell_type": "code",
   "execution_count": 4,
   "metadata": {},
   "outputs": [],
   "source": [
    "Thanmayee[\"price_new\"] = Thanmayee['price'].fillna(\n",
    "   Thanmayee.groupby('product_description')['price'].transform(\"mean\")\n",
    ")"
   ]
  },
  {
   "cell_type": "code",
   "execution_count": 5,
   "metadata": {},
   "outputs": [],
   "source": [
    "finall=Thanmayee[Thanmayee[\"price\"].isna()].head()"
   ]
  },
  {
   "cell_type": "code",
   "execution_count": 6,
   "metadata": {},
   "outputs": [
    {
     "data": {
      "text/html": [
       "<div>\n",
       "<style scoped>\n",
       "    .dataframe tbody tr th:only-of-type {\n",
       "        vertical-align: middle;\n",
       "    }\n",
       "\n",
       "    .dataframe tbody tr th {\n",
       "        vertical-align: top;\n",
       "    }\n",
       "\n",
       "    .dataframe thead th {\n",
       "        text-align: right;\n",
       "    }\n",
       "</style>\n",
       "<table border=\"1\" class=\"dataframe\">\n",
       "  <thead>\n",
       "    <tr style=\"text-align: right;\">\n",
       "      <th></th>\n",
       "      <th>product_code</th>\n",
       "      <th>product_description</th>\n",
       "      <th>product_group</th>\n",
       "      <th>sales_date</th>\n",
       "      <th>price</th>\n",
       "      <th>sales_quantity</th>\n",
       "      <th>unit</th>\n",
       "      <th>price_new</th>\n",
       "    </tr>\n",
       "  </thead>\n",
       "  <tbody>\n",
       "    <tr>\n",
       "      <th>10</th>\n",
       "      <td>1001</td>\n",
       "      <td>tomato</td>\n",
       "      <td>vegetable</td>\n",
       "      <td>2021-11-11</td>\n",
       "      <td>NaN</td>\n",
       "      <td>20</td>\n",
       "      <td>kg</td>\n",
       "      <td>3.121034</td>\n",
       "    </tr>\n",
       "    <tr>\n",
       "      <th>34</th>\n",
       "      <td>1002</td>\n",
       "      <td>cucumber</td>\n",
       "      <td>vegetable</td>\n",
       "      <td>2021-11-05</td>\n",
       "      <td>NaN</td>\n",
       "      <td>24</td>\n",
       "      <td>kg</td>\n",
       "      <td>4.532857</td>\n",
       "    </tr>\n",
       "    <tr>\n",
       "      <th>37</th>\n",
       "      <td>1002</td>\n",
       "      <td>cucumber</td>\n",
       "      <td>vegetable</td>\n",
       "      <td>2021-11-08</td>\n",
       "      <td>NaN</td>\n",
       "      <td>38</td>\n",
       "      <td>kg</td>\n",
       "      <td>4.532857</td>\n",
       "    </tr>\n",
       "    <tr>\n",
       "      <th>73</th>\n",
       "      <td>1003</td>\n",
       "      <td>onion</td>\n",
       "      <td>vegetable</td>\n",
       "      <td>2021-11-14</td>\n",
       "      <td>NaN</td>\n",
       "      <td>39</td>\n",
       "      <td>kg</td>\n",
       "      <td>2.150714</td>\n",
       "    </tr>\n",
       "    <tr>\n",
       "      <th>74</th>\n",
       "      <td>1003</td>\n",
       "      <td>onion</td>\n",
       "      <td>vegetable</td>\n",
       "      <td>2021-11-15</td>\n",
       "      <td>NaN</td>\n",
       "      <td>25</td>\n",
       "      <td>kg</td>\n",
       "      <td>2.150714</td>\n",
       "    </tr>\n",
       "  </tbody>\n",
       "</table>\n",
       "</div>"
      ],
      "text/plain": [
       "    product_code product_description product_group  sales_date  price  \\\n",
       "10          1001              tomato     vegetable  2021-11-11    NaN   \n",
       "34          1002            cucumber     vegetable  2021-11-05    NaN   \n",
       "37          1002            cucumber     vegetable  2021-11-08    NaN   \n",
       "73          1003               onion     vegetable  2021-11-14    NaN   \n",
       "74          1003               onion     vegetable  2021-11-15    NaN   \n",
       "\n",
       "    sales_quantity unit  price_new  \n",
       "10              20   kg   3.121034  \n",
       "34              24   kg   4.532857  \n",
       "37              38   kg   4.532857  \n",
       "73              39   kg   2.150714  \n",
       "74              25   kg   2.150714  "
      ]
     },
     "execution_count": 6,
     "metadata": {},
     "output_type": "execute_result"
    }
   ],
   "source": [
    "finall"
   ]
  },
  {
   "cell_type": "code",
   "execution_count": 7,
   "metadata": {},
   "outputs": [],
   "source": [
    "finall.to_csv('output.csv')"
   ]
  },
  {
   "cell_type": "code",
   "execution_count": null,
   "metadata": {},
   "outputs": [],
   "source": []
  }
 ],
 "metadata": {
  "kernelspec": {
   "display_name": "Python 3",
   "language": "python",
   "name": "python3"
  },
  "language_info": {
   "codemirror_mode": {
    "name": "ipython",
    "version": 3
   },
   "file_extension": ".py",
   "mimetype": "text/x-python",
   "name": "python",
   "nbconvert_exporter": "python",
   "pygments_lexer": "ipython3",
   "version": "3.8.5"
  }
 },
 "nbformat": 4,
 "nbformat_minor": 2
}
